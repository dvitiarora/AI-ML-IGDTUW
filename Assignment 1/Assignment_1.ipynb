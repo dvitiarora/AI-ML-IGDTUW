{
  "nbformat": 4,
  "nbformat_minor": 0,
  "metadata": {
    "colab": {
      "name": "Assignment-1.ipynb",
      "provenance": [],
      "toc_visible": true
    },
    "kernelspec": {
      "name": "python3",
      "display_name": "Python 3"
    }
  },
  "cells": [
    {
      "cell_type": "code",
      "metadata": {
        "id": "P7U4L2l726gy"
      },
      "source": [
        "import pandas as pd\n",
        "import numpy as np\n",
        "from sklearn.model_selection import train_test_split"
      ],
      "execution_count": 16,
      "outputs": []
    },
    {
      "cell_type": "code",
      "metadata": {
        "id": "H8_8aTHO5iol"
      },
      "source": [
        "# reading data from .csv file\n",
        "data=pd.read_csv(\"Car_Purchasing_Data.csv\",encoding = \"ISO-8859-1\")"
      ],
      "execution_count": 17,
      "outputs": []
    },
    {
      "cell_type": "code",
      "metadata": {
        "id": "qdDfKQJi5poX",
        "outputId": "05cef3a3-edd5-4b6c-ead0-c254b6c9abe8",
        "colab": {
          "base_uri": "https://localhost:8080/",
          "height": 444
        }
      },
      "source": [
        "data.head(10)"
      ],
      "execution_count": 18,
      "outputs": [
        {
          "output_type": "execute_result",
          "data": {
            "text/html": [
              "<div>\n",
              "<style scoped>\n",
              "    .dataframe tbody tr th:only-of-type {\n",
              "        vertical-align: middle;\n",
              "    }\n",
              "\n",
              "    .dataframe tbody tr th {\n",
              "        vertical-align: top;\n",
              "    }\n",
              "\n",
              "    .dataframe thead th {\n",
              "        text-align: right;\n",
              "    }\n",
              "</style>\n",
              "<table border=\"1\" class=\"dataframe\">\n",
              "  <thead>\n",
              "    <tr style=\"text-align: right;\">\n",
              "      <th></th>\n",
              "      <th>Customer Name</th>\n",
              "      <th>Customer e-mail</th>\n",
              "      <th>Country</th>\n",
              "      <th>Gender</th>\n",
              "      <th>Age</th>\n",
              "      <th>Annual Salary</th>\n",
              "      <th>Credit Card Debt</th>\n",
              "      <th>Net Worth</th>\n",
              "      <th>Car Purchase Amount</th>\n",
              "    </tr>\n",
              "  </thead>\n",
              "  <tbody>\n",
              "    <tr>\n",
              "      <th>0</th>\n",
              "      <td>Martina Avila</td>\n",
              "      <td>cubilia.Curae.Phasellus@quisaccumsanconvallis.edu</td>\n",
              "      <td>Bulgaria</td>\n",
              "      <td>0</td>\n",
              "      <td>41.851720</td>\n",
              "      <td>62812.09301</td>\n",
              "      <td>11609.380910</td>\n",
              "      <td>238961.2505</td>\n",
              "      <td>35321.45877</td>\n",
              "    </tr>\n",
              "    <tr>\n",
              "      <th>1</th>\n",
              "      <td>Harlan Barnes</td>\n",
              "      <td>eu.dolor@diam.co.uk</td>\n",
              "      <td>Belize</td>\n",
              "      <td>0</td>\n",
              "      <td>40.870623</td>\n",
              "      <td>66646.89292</td>\n",
              "      <td>9572.957136</td>\n",
              "      <td>530973.9078</td>\n",
              "      <td>45115.52566</td>\n",
              "    </tr>\n",
              "    <tr>\n",
              "      <th>2</th>\n",
              "      <td>Naomi Rodriquez</td>\n",
              "      <td>vulputate.mauris.sagittis@ametconsectetueradip...</td>\n",
              "      <td>Algeria</td>\n",
              "      <td>1</td>\n",
              "      <td>43.152897</td>\n",
              "      <td>53798.55112</td>\n",
              "      <td>11160.355060</td>\n",
              "      <td>638467.1773</td>\n",
              "      <td>42925.70921</td>\n",
              "    </tr>\n",
              "    <tr>\n",
              "      <th>3</th>\n",
              "      <td>Jade Cunningham</td>\n",
              "      <td>malesuada@dignissim.com</td>\n",
              "      <td>Cook Islands</td>\n",
              "      <td>1</td>\n",
              "      <td>58.271369</td>\n",
              "      <td>79370.03798</td>\n",
              "      <td>14426.164850</td>\n",
              "      <td>548599.0524</td>\n",
              "      <td>67422.36313</td>\n",
              "    </tr>\n",
              "    <tr>\n",
              "      <th>4</th>\n",
              "      <td>Cedric Leach</td>\n",
              "      <td>felis.ullamcorper.viverra@egetmollislectus.net</td>\n",
              "      <td>Brazil</td>\n",
              "      <td>1</td>\n",
              "      <td>57.313749</td>\n",
              "      <td>59729.15130</td>\n",
              "      <td>5358.712177</td>\n",
              "      <td>560304.0671</td>\n",
              "      <td>55915.46248</td>\n",
              "    </tr>\n",
              "    <tr>\n",
              "      <th>5</th>\n",
              "      <td>Carla Hester</td>\n",
              "      <td>mi@Aliquamerat.edu</td>\n",
              "      <td>Liberia</td>\n",
              "      <td>1</td>\n",
              "      <td>56.824893</td>\n",
              "      <td>68499.85162</td>\n",
              "      <td>14179.472440</td>\n",
              "      <td>428485.3604</td>\n",
              "      <td>56611.99784</td>\n",
              "    </tr>\n",
              "    <tr>\n",
              "      <th>6</th>\n",
              "      <td>Griffin Rivera</td>\n",
              "      <td>vehicula@at.co.uk</td>\n",
              "      <td>Syria</td>\n",
              "      <td>1</td>\n",
              "      <td>46.607315</td>\n",
              "      <td>39814.52200</td>\n",
              "      <td>5958.460188</td>\n",
              "      <td>326373.1812</td>\n",
              "      <td>28925.70549</td>\n",
              "    </tr>\n",
              "    <tr>\n",
              "      <th>7</th>\n",
              "      <td>Orli Casey</td>\n",
              "      <td>nunc.est.mollis@Suspendissetristiqueneque.co.uk</td>\n",
              "      <td>Czech Republic</td>\n",
              "      <td>1</td>\n",
              "      <td>50.193016</td>\n",
              "      <td>51752.23445</td>\n",
              "      <td>10985.696560</td>\n",
              "      <td>629312.4041</td>\n",
              "      <td>47434.98265</td>\n",
              "    </tr>\n",
              "    <tr>\n",
              "      <th>8</th>\n",
              "      <td>Marny Obrien</td>\n",
              "      <td>Phasellus@sedsemegestas.org</td>\n",
              "      <td>Armenia</td>\n",
              "      <td>0</td>\n",
              "      <td>46.584745</td>\n",
              "      <td>58139.25910</td>\n",
              "      <td>3440.823799</td>\n",
              "      <td>630059.0274</td>\n",
              "      <td>48013.61410</td>\n",
              "    </tr>\n",
              "    <tr>\n",
              "      <th>9</th>\n",
              "      <td>Rhonda Chavez</td>\n",
              "      <td>nec@nuncest.com</td>\n",
              "      <td>Somalia</td>\n",
              "      <td>1</td>\n",
              "      <td>43.323782</td>\n",
              "      <td>53457.10132</td>\n",
              "      <td>12884.078680</td>\n",
              "      <td>476643.3544</td>\n",
              "      <td>38189.50601</td>\n",
              "    </tr>\n",
              "  </tbody>\n",
              "</table>\n",
              "</div>"
            ],
            "text/plain": [
              "     Customer Name  ... Car Purchase Amount\n",
              "0    Martina Avila  ...         35321.45877\n",
              "1    Harlan Barnes  ...         45115.52566\n",
              "2  Naomi Rodriquez  ...         42925.70921\n",
              "3  Jade Cunningham  ...         67422.36313\n",
              "4     Cedric Leach  ...         55915.46248\n",
              "5     Carla Hester  ...         56611.99784\n",
              "6   Griffin Rivera  ...         28925.70549\n",
              "7       Orli Casey  ...         47434.98265\n",
              "8     Marny Obrien  ...         48013.61410\n",
              "9    Rhonda Chavez  ...         38189.50601\n",
              "\n",
              "[10 rows x 9 columns]"
            ]
          },
          "metadata": {
            "tags": []
          },
          "execution_count": 18
        }
      ]
    },
    {
      "cell_type": "code",
      "metadata": {
        "id": "nmFDUjK3H1vS"
      },
      "source": [
        "# selecting the relevant features\n",
        "val=['Age','Annual Salary','Credit Card Debt','Net Worth']"
      ],
      "execution_count": 19,
      "outputs": []
    },
    {
      "cell_type": "code",
      "metadata": {
        "id": "glXt9qTi-ZJ5"
      },
      "source": [
        "X=data[val]\n",
        "y=data.iloc[:,-1]\n"
      ],
      "execution_count": 20,
      "outputs": []
    },
    {
      "cell_type": "code",
      "metadata": {
        "id": "GFxNMkLj-Jam"
      },
      "source": [
        "# splitting into train and test data\n",
        "X_train, X_test, y_train, y_test = train_test_split(X, y, test_size=0.33, random_state=42)"
      ],
      "execution_count": 21,
      "outputs": []
    },
    {
      "cell_type": "markdown",
      "metadata": {
        "id": "I5uO2gqRmtli"
      },
      "source": [
        "## Linear Regression Model"
      ]
    },
    {
      "cell_type": "code",
      "metadata": {
        "id": "xmN5dEUL-W_K"
      },
      "source": [
        "from sklearn.linear_model import LinearRegression"
      ],
      "execution_count": 22,
      "outputs": []
    },
    {
      "cell_type": "code",
      "metadata": {
        "id": "MGNbRl9SCQpl"
      },
      "source": [
        "model=LinearRegression()"
      ],
      "execution_count": 23,
      "outputs": []
    },
    {
      "cell_type": "code",
      "metadata": {
        "id": "SaEIHIV0CWPx",
        "outputId": "ff22ad9e-01f7-4962-be24-c7634c960695",
        "colab": {
          "base_uri": "https://localhost:8080/"
        }
      },
      "source": [
        "model.fit(X_train,y_train)"
      ],
      "execution_count": 24,
      "outputs": [
        {
          "output_type": "execute_result",
          "data": {
            "text/plain": [
              "LinearRegression(copy_X=True, fit_intercept=True, n_jobs=None, normalize=False)"
            ]
          },
          "metadata": {
            "tags": []
          },
          "execution_count": 24
        }
      ]
    },
    {
      "cell_type": "code",
      "metadata": {
        "id": "qe-rVV0ImIPF",
        "outputId": "adbe7574-e8a1-4a10-d50b-c3302fd5b8eb",
        "colab": {
          "base_uri": "https://localhost:8080/"
        }
      },
      "source": [
        "model.coef_,model.intercept_"
      ],
      "execution_count": 25,
      "outputs": [
        {
          "output_type": "execute_result",
          "data": {
            "text/plain": [
              "(array([ 8.41566827e+02,  5.62334550e-01, -2.78836647e-05,  2.89836665e-02]),\n",
              " -42147.42593984799)"
            ]
          },
          "metadata": {
            "tags": []
          },
          "execution_count": 25
        }
      ]
    },
    {
      "cell_type": "code",
      "metadata": {
        "id": "syCyz1rnmK-P",
        "outputId": "a92ec031-cac3-462c-c14b-808b1b917fb3",
        "colab": {
          "base_uri": "https://localhost:8080/"
        }
      },
      "source": [
        "# values predicted by the model for X_test data\n",
        "model.predict(X_test[:5])"
      ],
      "execution_count": 26,
      "outputs": [
        {
          "output_type": "execute_result",
          "data": {
            "text/plain": [
              "array([46084.47837178, 45060.50747378, 63081.6975224 , 31838.18108863,\n",
              "       60460.98796456])"
            ]
          },
          "metadata": {
            "tags": []
          },
          "execution_count": 26
        }
      ]
    },
    {
      "cell_type": "code",
      "metadata": {
        "id": "Lq--2_zWmeu4",
        "outputId": "426237fe-db1d-45c4-a79e-738e3e0aaf95",
        "colab": {
          "base_uri": "https://localhost:8080/"
        }
      },
      "source": [
        "# actual values from y_test\n",
        "y_test[:5]"
      ],
      "execution_count": 27,
      "outputs": [
        {
          "output_type": "execute_result",
          "data": {
            "text/plain": [
              "361    46082.80993\n",
              "73     45058.89690\n",
              "374    63079.84329\n",
              "155    31837.22537\n",
              "104    60461.24268\n",
              "Name: Car Purchase Amount, dtype: float64"
            ]
          },
          "metadata": {
            "tags": []
          },
          "execution_count": 27
        }
      ]
    },
    {
      "cell_type": "code",
      "metadata": {
        "id": "YnHlZ13cmjyS",
        "outputId": "ff479361-8f44-465f-fb28-7e3d758e33a7",
        "colab": {
          "base_uri": "https://localhost:8080/"
        }
      },
      "source": [
        "# accuracy of the model\n",
        "model.score(X_test,y_test)"
      ],
      "execution_count": 28,
      "outputs": [
        {
          "output_type": "execute_result",
          "data": {
            "text/plain": [
              "0.99999998026976"
            ]
          },
          "metadata": {
            "tags": []
          },
          "execution_count": 28
        }
      ]
    }
  ]
}